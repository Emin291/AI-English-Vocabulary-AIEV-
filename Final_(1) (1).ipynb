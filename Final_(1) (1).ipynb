{
  "nbformat": 4,
  "nbformat_minor": 0,
  "metadata": {
    "colab": {
      "provenance": []
    },
    "kernelspec": {
      "name": "python3",
      "display_name": "Python 3"
    },
    "language_info": {
      "name": "python"
    }
  },
  "cells": [
    {
      "cell_type": "code",
      "execution_count": null,
      "metadata": {
        "id": "jymnXZ1s8PSU",
        "colab": {
          "base_uri": "https://localhost:8080/"
        },
        "outputId": "13192028-193f-4435-ae25-7411d262ce90"
      },
      "outputs": [
        {
          "output_type": "stream",
          "name": "stdout",
          "text": [
            "\u001b[2K     \u001b[90m━━━━━━━━━━━━━━━━━━━━━━━━━━━━━━━━━━━━━━━\u001b[0m \u001b[32m143.4/143.4 kB\u001b[0m \u001b[31m3.4 MB/s\u001b[0m eta \u001b[36m0:00:00\u001b[0m\n",
            "\u001b[2K     \u001b[90m━━━━━━━━━━━━━━━━━━━━━━━━━━━━━━━━━━━━━━━━\u001b[0m \u001b[32m5.2/5.2 MB\u001b[0m \u001b[31m26.9 MB/s\u001b[0m eta \u001b[36m0:00:00\u001b[0m\n",
            "\u001b[?25h  Installing build dependencies ... \u001b[?25l\u001b[?25hdone\n",
            "  Getting requirements to build wheel ... \u001b[?25l\u001b[?25hdone\n",
            "  Preparing metadata (pyproject.toml) ... \u001b[?25l\u001b[?25hdone\n",
            "\u001b[2K     \u001b[90m━━━━━━━━━━━━━━━━━━━━━━━━━━━━━━━━━━━━━━━━\u001b[0m \u001b[32m88.2/88.2 kB\u001b[0m \u001b[31m8.4 MB/s\u001b[0m eta \u001b[36m0:00:00\u001b[0m\n",
            "\u001b[?25h  Preparing metadata (setup.py) ... \u001b[?25l\u001b[?25hdone\n",
            "\u001b[2K     \u001b[90m━━━━━━━━━━━━━━━━━━━━━━━━━━━━━━━━━━━━━━━━\u001b[0m \u001b[32m86.0/86.0 kB\u001b[0m \u001b[31m8.6 MB/s\u001b[0m eta \u001b[36m0:00:00\u001b[0m\n",
            "\u001b[?25h  Preparing metadata (setup.py) ... \u001b[?25l\u001b[?25hdone\n",
            "\u001b[2K     \u001b[90m━━━━━━━━━━━━━━━━━━━━━━━━━━━━━━━━━━━━━━━━\u001b[0m \u001b[32m7.2/7.2 MB\u001b[0m \u001b[31m70.7 MB/s\u001b[0m eta \u001b[36m0:00:00\u001b[0m\n",
            "\u001b[2K     \u001b[90m━━━━━━━━━━━━━━━━━━━━━━━━━━━━━━━━━━━━━━━━\u001b[0m \u001b[32m1.3/1.3 MB\u001b[0m \u001b[31m63.5 MB/s\u001b[0m eta \u001b[36m0:00:00\u001b[0m\n",
            "\u001b[2K     \u001b[90m━━━━━━━━━━━━━━━━━━━━━━━━━━━━━━━━━━━━━━\u001b[0m \u001b[32m268.8/268.8 kB\u001b[0m \u001b[31m22.0 MB/s\u001b[0m eta \u001b[36m0:00:00\u001b[0m\n",
            "\u001b[2K     \u001b[90m━━━━━━━━━━━━━━━━━━━━━━━━━━━━━━━━━━━━━━━━\u001b[0m \u001b[32m1.1/1.1 MB\u001b[0m \u001b[31m67.4 MB/s\u001b[0m eta \u001b[36m0:00:00\u001b[0m\n",
            "\u001b[?25h  Preparing metadata (setup.py) ... \u001b[?25l\u001b[?25hdone\n",
            "\u001b[2K     \u001b[90m━━━━━━━━━━━━━━━━━━━━━━━━━━━━━━━━━━━━━━━━\u001b[0m \u001b[32m7.8/7.8 MB\u001b[0m \u001b[31m97.1 MB/s\u001b[0m eta \u001b[36m0:00:00\u001b[0m\n",
            "\u001b[2K     \u001b[90m━━━━━━━━━━━━━━━━━━━━━━━━━━━━━━━━━━━━━━━━\u001b[0m \u001b[32m1.3/1.3 MB\u001b[0m \u001b[31m66.9 MB/s\u001b[0m eta \u001b[36m0:00:00\u001b[0m\n",
            "\u001b[?25h  Building wheel for hdbscan (pyproject.toml) ... \u001b[?25l\u001b[?25hdone\n",
            "  Building wheel for sentence-transformers (setup.py) ... \u001b[?25l\u001b[?25hdone\n",
            "  Building wheel for umap-learn (setup.py) ... \u001b[?25l\u001b[?25hdone\n",
            "  Building wheel for pynndescent (setup.py) ... \u001b[?25l\u001b[?25hdone\n"
          ]
        }
      ],
      "source": [
        "!pip install bertopic -q"
      ]
    },
    {
      "cell_type": "code",
      "source": [
        "!pip install nltk"
      ],
      "metadata": {
        "colab": {
          "base_uri": "https://localhost:8080/"
        },
        "id": "-cK4zS1cWcLc",
        "outputId": "a3f7bbc7-6005-40f2-cb9d-1568f67ae5e1"
      },
      "execution_count": null,
      "outputs": [
        {
          "output_type": "stream",
          "name": "stdout",
          "text": [
            "Requirement already satisfied: nltk in /usr/local/lib/python3.10/dist-packages (3.8.1)\n",
            "Requirement already satisfied: click in /usr/local/lib/python3.10/dist-packages (from nltk) (8.1.3)\n",
            "Requirement already satisfied: joblib in /usr/local/lib/python3.10/dist-packages (from nltk) (1.2.0)\n",
            "Requirement already satisfied: regex>=2021.8.3 in /usr/local/lib/python3.10/dist-packages (from nltk) (2022.10.31)\n",
            "Requirement already satisfied: tqdm in /usr/local/lib/python3.10/dist-packages (from nltk) (4.65.0)\n"
          ]
        }
      ]
    },
    {
      "cell_type": "code",
      "source": [
        "from bertopic import BERTopic\n",
        "from gensim.models import KeyedVectors\n",
        "import nltk\n",
        "import gensim.downloader as api\n",
        "dataset = api.load(\"text8\")\n",
        "nltk.download('wordnet')\n",
        "from gensim.models import Word2Vec"
      ],
      "metadata": {
        "id": "kueF-n66Hw1y",
        "colab": {
          "base_uri": "https://localhost:8080/"
        },
        "outputId": "ac6a62df-e2ff-4523-abeb-c4488007e52f"
      },
      "execution_count": null,
      "outputs": [
        {
          "output_type": "stream",
          "name": "stderr",
          "text": [
            "[nltk_data] Downloading package wordnet to /root/nltk_data...\n"
          ]
        }
      ]
    },
    {
      "cell_type": "code",
      "source": [
        "def synonym_extractor(phrase):\n",
        "     from nltk.corpus import wordnet\n",
        "     synonyms = []\n",
        "     antonyms = []\n",
        "\n",
        "     for syn in wordnet.synsets(phrase):\n",
        "          for l in syn.lemmas():\n",
        "               synonyms.append(l.name())\n",
        "\n",
        "     print(set(synonyms))\n",
        "\n",
        "synonym_extractor(phrase=\"new\")"
      ],
      "metadata": {
        "colab": {
          "base_uri": "https://localhost:8080/"
        },
        "id": "VFxzGCloWlcB",
        "outputId": "0c413f10-4019-4c63-f28b-98ff38954c74"
      },
      "execution_count": null,
      "outputs": [
        {
          "output_type": "stream",
          "name": "stdout",
          "text": [
            "{'young', 'freshly', 'unexampled', 'new', 'raw', 'newfangled', 'novel', 'newly', 'New', 'Modern', 'fresh'}\n"
          ]
        }
      ]
    },
    {
      "cell_type": "code",
      "source": [
        "def antonym_extractor(phrase):\n",
        "     from nltk.corpus import wordnet\n",
        "     antonyms = []\n",
        "\n",
        "     for syn in wordnet.synsets(phrase):\n",
        "          for i in syn.lemmas():\n",
        "            if i.antonyms():\n",
        "                 antonyms.append(i.antonyms()[0].name())\n",
        "\n",
        "     print(set(antonyms))\n",
        "\n",
        "antonym_extractor(phrase=\"beautiful\")"
      ],
      "metadata": {
        "colab": {
          "base_uri": "https://localhost:8080/"
        },
        "id": "TtXOPATWX241",
        "outputId": "415182c1-b80d-4852-e271-8e885a826abd"
      },
      "execution_count": null,
      "outputs": [
        {
          "output_type": "stream",
          "name": "stdout",
          "text": [
            "{'ugly'}\n"
          ]
        }
      ]
    },
    {
      "cell_type": "code",
      "source": [
        "import gensim, logging\n",
        "logging.basicConfig(format='%(asctime)s : %(levelname)s : %(message)s', level=logging.INFO)\n",
        "\n",
        "sentences = [['first', 'sentence'], ['second', 'sentence']]\n",
        "# train word2vec on the two sentences\n",
        "model = gensim.models.Word2Vec(sentences, min_count=1)"
      ],
      "metadata": {
        "id": "p2f2J92WGnSj"
      },
      "execution_count": null,
      "outputs": []
    },
    {
      "cell_type": "code",
      "source": [
        "import gensim.downloader\n",
        "print(list(gensim.downloader.info()['models'].keys()))"
      ],
      "metadata": {
        "colab": {
          "base_uri": "https://localhost:8080/"
        },
        "id": "POa5eX_bIbUx",
        "outputId": "c2ea3547-c2b9-4d0d-a29e-a3d6c2e58d85"
      },
      "execution_count": null,
      "outputs": [
        {
          "output_type": "stream",
          "name": "stdout",
          "text": [
            "['fasttext-wiki-news-subwords-300', 'conceptnet-numberbatch-17-06-300', 'word2vec-ruscorpora-300', 'word2vec-google-news-300', 'glove-wiki-gigaword-50', 'glove-wiki-gigaword-100', 'glove-wiki-gigaword-200', 'glove-wiki-gigaword-300', 'glove-twitter-25', 'glove-twitter-50', 'glove-twitter-100', 'glove-twitter-200', '__testing_word2vec-matrix-synopsis']\n"
          ]
        }
      ]
    },
    {
      "cell_type": "code",
      "source": [
        "glove_vectors = gensim.downloader.load('fasttext-wiki-news-subwords-300')"
      ],
      "metadata": {
        "colab": {
          "base_uri": "https://localhost:8080/"
        },
        "id": "DhX0lfHeIjnK",
        "outputId": "7e42f839-8880-4d55-a9dc-88f608a1a10b"
      },
      "execution_count": null,
      "outputs": [
        {
          "output_type": "stream",
          "name": "stdout",
          "text": [
            "[=================================================-] 99.8% 956.3/958.4MB downloaded\n"
          ]
        }
      ]
    },
    {
      "cell_type": "code",
      "source": [
        "glove_vectors['king']"
      ],
      "metadata": {
        "id": "2qk_JETVGuES",
        "colab": {
          "base_uri": "https://localhost:8080/"
        },
        "outputId": "d1ae7e61-3470-4989-fd40-ec08d0094aa6"
      },
      "execution_count": null,
      "outputs": [
        {
          "output_type": "execute_result",
          "data": {
            "text/plain": [
              "array([-1.2063e-01,  5.1695e-03, -1.2447e-02, -7.8528e-03, -2.3738e-02,\n",
              "       -8.2595e-02,  4.5790e-02, -1.5382e-01,  6.4550e-02,  1.2893e-01,\n",
              "        2.7643e-02,  1.5958e-02,  7.7559e-02,  6.0516e-02,  1.2737e-01,\n",
              "        8.4766e-02,  6.3890e-02, -1.7687e-01,  4.3017e-02, -1.8031e-02,\n",
              "       -3.3041e-02,  2.1930e-02, -1.1328e-02,  6.6453e-02,  1.5826e-01,\n",
              "       -2.3008e-02, -4.3616e-03, -2.2379e-02,  4.4891e-02,  3.0103e-03,\n",
              "       -1.5565e-02, -7.6785e-02, -9.2186e-02,  5.7907e-02, -2.7658e-02,\n",
              "        5.4500e-03,  1.8975e-02,  4.2939e-02,  3.4704e-03,  4.0449e-02,\n",
              "       -4.0245e-03, -1.1594e-01, -5.8337e-03,  3.2509e-02, -8.6535e-02,\n",
              "        7.2000e-02, -2.2299e-02,  1.3079e-02, -3.9515e-02,  6.8996e-02,\n",
              "        9.2300e-02, -7.5371e-02,  5.9412e-03, -3.4945e-02, -3.3417e-02,\n",
              "       -9.9982e-02,  1.6438e-02,  6.3739e-02, -6.2391e-02,  7.8285e-04,\n",
              "       -2.9210e-02, -9.6416e-02,  7.2910e-02,  4.5905e-02, -8.3387e-02,\n",
              "        7.1969e-02,  4.0932e-02, -5.6454e-03,  1.3709e-01, -1.1793e-01,\n",
              "       -7.1011e-02, -7.1963e-02,  6.5600e-02, -4.6315e-02, -1.7200e-02,\n",
              "        3.4434e-02,  4.4218e-02, -9.6354e-03, -6.8105e-02,  3.0810e-02,\n",
              "        1.5424e-02,  5.6398e-02,  4.4225e-02,  8.0547e-02, -5.2413e-02,\n",
              "       -3.6509e-02,  2.6141e-02,  2.5574e-02, -3.4346e-02, -4.5879e-02,\n",
              "       -1.7031e-02,  5.1450e-02, -1.2766e-01, -8.6838e-02,  1.1084e-02,\n",
              "        1.3282e-01,  2.0850e-02,  7.0881e-02, -5.9277e-03,  2.2612e-02,\n",
              "        4.8919e-02, -1.2490e-02,  1.5460e-01, -6.1251e-03, -8.9369e-02,\n",
              "       -2.3707e-01,  2.0696e-02, -3.7604e-02, -8.3793e-02, -2.5512e-03,\n",
              "       -4.0426e-02,  1.0575e-01,  9.7514e-02,  4.4101e-02,  4.1732e-02,\n",
              "        7.4080e-02,  6.3560e-02,  3.1801e-02, -1.4961e-02, -4.3675e-03,\n",
              "       -1.4893e-02,  8.6208e-02, -2.0204e-02, -2.0797e-03,  7.7648e-02,\n",
              "       -1.9620e-03,  3.2115e-02, -1.5615e-01, -3.6702e-02,  1.2009e-01,\n",
              "       -8.0633e-02,  4.2894e-02, -3.5265e-02,  2.2693e-02, -3.3743e-02,\n",
              "        1.7573e-02, -7.5089e-02,  9.8873e-02,  2.7042e-02, -1.7185e-02,\n",
              "        1.7489e-02, -1.1096e-01,  7.5456e-02, -4.2234e-02, -3.7115e-02,\n",
              "       -1.2356e-02,  1.1243e-02, -4.6907e-02, -5.5681e-02, -6.5216e-02,\n",
              "        5.4923e-02,  3.7514e-02,  5.0259e-02, -7.4453e-02, -2.0440e-02,\n",
              "       -8.3293e-02, -2.3010e-02, -4.2105e-02, -2.8792e-02, -1.9139e-02,\n",
              "        3.6758e-02,  7.7620e-02, -6.3909e-02, -2.9304e-02,  3.1128e-02,\n",
              "       -1.2056e-02, -3.0854e-02, -2.3162e-02, -4.4762e-02,  1.2797e-01,\n",
              "       -7.7709e-03, -7.7466e-02, -2.7976e-02,  5.1038e-02, -5.5217e-02,\n",
              "        7.5312e-02,  3.4093e-02, -3.4833e-03,  9.7360e-03,  5.8273e-02,\n",
              "        9.3454e-02, -4.3781e-02, -4.5870e-02, -7.3544e-02, -4.1269e-02,\n",
              "       -9.1712e-02, -1.5840e-01,  1.1790e-01,  3.4210e-02, -2.4719e-02,\n",
              "        6.1251e-02,  8.2068e-02, -1.1710e-01,  2.9949e-02, -7.1442e-02,\n",
              "        2.2185e-02, -2.4418e-02, -2.5316e-02, -5.3970e-02,  1.1615e-01,\n",
              "       -1.9979e-01,  6.8714e-02, -6.1776e-03, -3.9478e-02, -1.8856e-02,\n",
              "        7.8819e-02,  3.0709e-02, -4.7448e-02, -5.0356e-02, -4.0706e-02,\n",
              "        1.4722e-01, -4.6420e-02,  1.1976e-05,  9.2290e-02, -6.1358e-02,\n",
              "        6.0161e-05,  1.4491e-02, -2.4847e-02,  5.6051e-02,  1.9206e-02,\n",
              "        3.2446e-02,  5.0245e-03,  1.9242e-02,  1.3482e-01,  7.3311e-03,\n",
              "       -1.0219e-01,  7.6724e-02,  9.7512e-02, -4.9655e-02, -7.2788e-03,\n",
              "       -1.1748e-01, -3.5783e-02, -6.9954e-02, -8.8086e-03, -1.5677e-02,\n",
              "        6.4489e-02, -7.2463e-02, -5.0428e-03,  7.5461e-02, -6.0999e-02,\n",
              "        9.2653e-02, -5.3002e-02, -9.8853e-02,  4.4468e-02,  1.5699e-03,\n",
              "        1.0594e-02,  5.4306e-02,  2.1943e-02, -1.4941e-02, -2.9272e-02,\n",
              "        1.0173e-01, -2.7459e-02, -1.7016e-02,  3.7454e-02,  8.5015e-02,\n",
              "        8.6834e-02, -7.6342e-02,  9.5069e-02,  4.6912e-02, -2.2718e-02,\n",
              "       -7.9839e-02,  6.6125e-02,  6.2540e-02,  2.5836e-02,  2.4580e-02,\n",
              "        5.1879e-02, -1.8032e-04,  4.8657e-02, -1.1875e-01, -2.4103e-02,\n",
              "        1.5130e-03,  8.0515e-02, -1.0280e-01, -1.3489e-02,  7.1108e-02,\n",
              "       -6.0643e-02, -2.3006e-02, -9.8232e-03, -8.7159e-02,  8.5388e-02,\n",
              "        5.3778e-02, -8.4714e-02,  5.4218e-02, -4.1406e-02,  1.0716e-02,\n",
              "        6.9728e-02, -8.9833e-03, -8.0539e-02, -3.0566e-02,  1.0912e-01,\n",
              "       -3.9061e-02, -6.3893e-02, -3.3986e-02, -2.0095e-02, -6.0904e-02,\n",
              "        1.5957e-02, -1.0371e-02,  6.7261e-02, -3.0458e-02, -3.1992e-02],\n",
              "      dtype=float32)"
            ]
          },
          "metadata": {},
          "execution_count": 6
        }
      ]
    },
    {
      "cell_type": "code",
      "source": [
        "result = glove_vectors.most_similar(positive = 'old', topn = 5)\n",
        "result"
      ],
      "metadata": {
        "id": "a8erHRnaGySB",
        "colab": {
          "base_uri": "https://localhost:8080/"
        },
        "outputId": "3e3163fa-7916-44bc-8727-fcb72692a9e1"
      },
      "execution_count": null,
      "outputs": [
        {
          "output_type": "execute_result",
          "data": {
            "text/plain": [
              "[('older', 0.7944450378417969),\n",
              " ('old-old', 0.7515355944633484),\n",
              " ('good-old', 0.7417452335357666),\n",
              " ('not-so-old', 0.7345165610313416),\n",
              " ('new', 0.7334614396095276)]"
            ]
          },
          "metadata": {},
          "execution_count": 27
        }
      ]
    },
    {
      "cell_type": "code",
      "source": [
        "!pip install requests"
      ],
      "metadata": {
        "id": "ortz19bhJGzK",
        "colab": {
          "base_uri": "https://localhost:8080/"
        },
        "outputId": "f68f4258-256e-41a7-90fa-7379a4ee8bd6"
      },
      "execution_count": null,
      "outputs": [
        {
          "output_type": "stream",
          "name": "stdout",
          "text": [
            "Requirement already satisfied: requests in /usr/local/lib/python3.10/dist-packages (2.27.1)\n",
            "Requirement already satisfied: urllib3<1.27,>=1.21.1 in /usr/local/lib/python3.10/dist-packages (from requests) (1.26.16)\n",
            "Requirement already satisfied: certifi>=2017.4.17 in /usr/local/lib/python3.10/dist-packages (from requests) (2023.5.7)\n",
            "Requirement already satisfied: charset-normalizer~=2.0.0 in /usr/local/lib/python3.10/dist-packages (from requests) (2.0.12)\n",
            "Requirement already satisfied: idna<4,>=2.5 in /usr/local/lib/python3.10/dist-packages (from requests) (3.4)\n"
          ]
        }
      ]
    },
    {
      "cell_type": "code",
      "source": [
        "import requests\n",
        "import json"
      ],
      "metadata": {
        "id": "Rn7U8TAbcze6"
      },
      "execution_count": null,
      "outputs": []
    },
    {
      "cell_type": "code",
      "source": [
        "text = 'beautiful'\n",
        "api_url = f'https://api.dictionaryapi.dev/api/v2/entries/en/{text}'\n",
        "response = requests.get(api_url)\n",
        "if response.status_code == 200:\n",
        "    data = response.json()\n",
        "    synonyms = data[0][\"meanings\"][1][\"definitions\"][1][\"synonyms\"]\n",
        "    print(f'Synonyms for {text} :', synonyms)\n",
        "else:\n",
        "    print(\"Failed to retrieve synonyms.\")\n",
        "print(data)\n"
      ],
      "metadata": {
        "colab": {
          "base_uri": "https://localhost:8080/"
        },
        "id": "5EAWr9Gfdctv",
        "outputId": "61e4abb9-6bdb-47ea-a404-bc97d327369c"
      },
      "execution_count": 98,
      "outputs": [
        {
          "output_type": "stream",
          "name": "stdout",
          "text": [
            "Synonyms for beautiful : []\n",
            "[{'word': 'beautiful', 'phonetic': '/ˈbjuːtɪfəl/', 'phonetics': [{'text': '/ˈbjuːtɪfəl/', 'audio': 'https://api.dictionaryapi.dev/media/pronunciations/en/beautiful-uk.mp3', 'sourceUrl': 'https://commons.wikimedia.org/w/index.php?curid=9014276', 'license': {'name': 'BY 3.0 US', 'url': 'https://creativecommons.org/licenses/by/3.0/us'}}, {'text': '/ˈbjuːtɪfəl/', 'audio': 'https://api.dictionaryapi.dev/media/pronunciations/en/beautiful-us.mp3', 'sourceUrl': 'https://commons.wikimedia.org/w/index.php?curid=837183', 'license': {'name': 'BY-SA 3.0', 'url': 'https://creativecommons.org/licenses/by-sa/3.0'}}], 'meanings': [{'partOfSpeech': 'noun', 'definitions': [{'definition': 'Someone who is beautiful. Can be used as a term of address.', 'synonyms': [], 'antonyms': [], 'example': 'Hey, beautiful!'}], 'synonyms': [], 'antonyms': []}, {'partOfSpeech': 'adjective', 'definitions': [{'definition': 'Attractive and possessing beauty.', 'synonyms': [], 'antonyms': [], 'example': 'Anyone who has ever met her thought she was absolutely beautiful.'}, {'definition': '(of the weather) Pleasant; clear.', 'synonyms': [], 'antonyms': [], 'example': \"It's beautiful outside, let's go for a walk.\"}, {'definition': 'Well executed.', 'synonyms': [], 'antonyms': [], 'example': 'The skater performed a beautiful axel.'}], 'synonyms': ['bloody', 'damned', 'great', 'intensifier', 'just', 'marvellous', 'marvelous', 'nice', 'wonderful', 'clear', 'fine', 'nice', 'pleasant', 'sunny', 'attractive', 'beauteous', 'cute', 'fair', 'fit', 'good-looking', 'gorgeous', 'handsome', 'hot', 'lovely', 'nice-looking', 'pretty', 'shapely', 'sheen', 'excellent', 'exceptional', 'good', 'great', 'marvellous', 'marvelous', 'perfect', 'stylish', 'wonderful'], 'antonyms': ['bad', 'cloudy', 'dull', 'miserable', 'overcast', 'rainy', 'wet', 'grotesque', 'hideous', 'homely', 'misshapen', 'plain', 'repulsive', 'ugly', 'unbeautiful', 'average', 'bad', 'mediocre', 'poor', 'shoddy', 'substandard', 'terrible', 'weak']}], 'license': {'name': 'CC BY-SA 3.0', 'url': 'https://creativecommons.org/licenses/by-sa/3.0'}, 'sourceUrls': ['https://en.wiktionary.org/wiki/beautiful']}]\n"
          ]
        }
      ]
    },
    {
      "cell_type": "code",
      "source": [],
      "metadata": {
        "id": "uZ0P8_TudDh8"
      },
      "execution_count": null,
      "outputs": []
    }
  ]
}